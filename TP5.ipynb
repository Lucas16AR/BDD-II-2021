{
 "cells": [
  {
   "cell_type": "markdown",
   "id": "04f5aa01",
   "metadata": {},
   "source": [
    "# TP5 - Visualización\n",
    "\n",
    "Seleccionar tres gráficos con mala visualización.\n",
    "\n",
    "- <a href=\"https://www.consultantsmind.com/2017/04/10/bad-charts/\"> Página 1 </a>\n",
    "- <a href=\"https://badvisualisations.tumblr.com/\"> Página 2 </a>\n",
    "- <a href=\"https://flowingdata.com/category/visualization/ugly-visualization/\"> Página 3 </a>\n",
    "\n",
    "Para cada gŕafico:\n",
    "\n",
    "- Mostrar una imagen del gráfico\n",
    "- Explicar por qué es una mala representación\n",
    "- Utilizar Matplotlib para representar correctamente los datos\n"
   ]
  },
  {
   "cell_type": "code",
   "execution_count": null,
   "id": "9c238364",
   "metadata": {},
   "outputs": [],
   "source": []
  }
 ],
 "metadata": {
  "kernelspec": {
   "display_name": "Python 3",
   "language": "python",
   "name": "python3"
  },
  "language_info": {
   "codemirror_mode": {
    "name": "ipython",
    "version": 3
   },
   "file_extension": ".py",
   "mimetype": "text/x-python",
   "name": "python",
   "nbconvert_exporter": "python",
   "pygments_lexer": "ipython3",
   "version": "3.8.8"
  }
 },
 "nbformat": 4,
 "nbformat_minor": 5
}
