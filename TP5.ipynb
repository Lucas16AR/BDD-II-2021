{
 "cells": [
  {
   "cell_type": "markdown",
   "id": "04f5aa01",
   "metadata": {},
   "source": [
    "# TP5 - Visualización\n",
    "\n",
    "Seleccionar tres gráficos con mala visualización.\n",
    "\n",
    "- <a href=\"https://www.consultantsmind.com/2017/04/10/bad-charts/\"> Página 1 </a>\n",
    "- <a href=\"https://badvisualisations.tumblr.com/\"> Página 2 </a>\n",
    "- <a href=\"https://flowingdata.com/category/visualization/ugly-visualization/\"> Página 3 </a>\n",
    "\n",
    "Para cada gŕafico:\n",
    "\n",
    "- Mostrar una imagen del gráfico\n",
    "- Explicar por qué es una mala representación\n",
    "- Utilizar Matplotlib para representar correctamente los datos\n"
   ]
  },
  {
   "cell_type": "markdown",
   "id": "276ae1bf",
   "metadata": {},
   "source": [
    "# Página 1"
   ]
  },
  {
   "cell_type": "markdown",
   "id": "74dc9d1c",
   "metadata": {},
   "source": [
    "<img src=\"https://www.consultantsmind.com/wp-content/uploads/2016/10/Consultantsmind-Bad-Chart-Malboro.bmp\">"
   ]
  },
  {
   "cell_type": "code",
   "execution_count": null,
   "id": "18b2c2b6",
   "metadata": {},
   "outputs": [],
   "source": []
  },
  {
   "cell_type": "code",
   "execution_count": null,
   "id": "260d4539",
   "metadata": {},
   "outputs": [],
   "source": []
  },
  {
   "cell_type": "markdown",
   "id": "dc95d65c",
   "metadata": {},
   "source": [
    "# Página 2"
   ]
  },
  {
   "attachments": {},
   "cell_type": "markdown",
   "id": "bfc5ecfd",
   "metadata": {},
   "source": [
    "<img src=\"https://64.media.tumblr.com/d378eb38c34832c6a0c13536a99f6acc/tumblr_pubelwqiK21xbq2wwo1_500.jpg\">"
   ]
  },
  {
   "cell_type": "markdown",
   "id": "eff2c0b6",
   "metadata": {},
   "source": [
    "El grafico circular, no sirve para representar estos datos, porque la sumatoria no da 100, porque cada porcentaje es independiente del resto"
   ]
  },
  {
   "cell_type": "code",
   "execution_count": 6,
   "id": "03c84660",
   "metadata": {},
   "outputs": [
    {
     "data": {
      "image/png": "[encoded data removed]",
      "text/plain": [
       "<Figure size 1080x504 with 1 Axes>"
      ]
     },
     "metadata": {
      "needs_background": "light"
     },
     "output_type": "display_data"
    }
   ],
   "source": [
    "import matplotlib.pyplot as plt\n",
    "%matplotlib inline\n",
    "plt.figure(figsize = (15,7))\n",
    "\n",
    "x = [\"Rahmat Shah\",\"Kusal Perera\",\"Root\",\"Pooran\",\"Du Plessis\",\"Babar\",\"Warner\",\"Shakib\",\"Rohit\",\"Williamson\"]\n",
    "y = [14.8,18.16,19.07,20.21,21.06,24.51,25.02,28.25,29.05,30.23]\n",
    "plt.bar(x,y)\n",
    "plt.xlabel(\"Jugadores\")\n",
    "plt.ylabel(\"Porcentajes\")\n",
    "plt.title(\"Top Scorers\")\n",
    "plt.show();"
   ]
  },
  {
   "cell_type": "markdown",
   "id": "9b68486a",
   "metadata": {},
   "source": [
    "# Página 3"
   ]
  },
  {
   "cell_type": "markdown",
   "id": "96669275",
   "metadata": {},
   "source": [
    "<img src=\"https://flowingdata.com/wp-content/uploads/2013/08/Gratuitous-pies.png\">"
   ]
  },
  {
   "cell_type": "code",
   "execution_count": null,
   "id": "86681f4b",
   "metadata": {},
   "outputs": [],
   "source": []
  },
  {
   "cell_type": "code",
   "execution_count": null,
   "id": "027bb5d6",
   "metadata": {},
   "outputs": [],
   "source": []
  }
 ],
 "metadata": {
  "kernelspec": {
   "display_name": "Python 3",
   "language": "python",
   "name": "python3"
  },
  "language_info": {
   "codemirror_mode": {
    "name": "ipython",
    "version": 3
   },
   "file_extension": ".py",
   "mimetype": "text/x-python",
   "name": "python",
   "nbconvert_exporter": "python",
   "pygments_lexer": "ipython3",
   "version": "3.8.8"
  }
 },
 "nbformat": 4,
 "nbformat_minor": 5
}
