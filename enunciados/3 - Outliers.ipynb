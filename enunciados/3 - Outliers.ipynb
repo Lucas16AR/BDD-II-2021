{
 "cells": [
  {
   "cell_type": "markdown",
   "id": "6a1aa6f5",
   "metadata": {},
   "source": [
    "## Valores atípicos\n",
    "\n",
    "Un valor atípico o outlier es un punto de observación dentro de un conjunto de datos que es diferentes del resto de los puntos.\n",
    "\n",
    "Estos valores pueden deberse a un error cometido durante el proceso de obtención y recolección de datos o pueden representar una varianza real en los valores del dataset. Dependiendo del caso pueden ser tratados de diferente manera.\n",
    "\n"
   ]
  },
  {
   "cell_type": "markdown",
   "id": "250152e1",
   "metadata": {},
   "source": [
    "## Encontrar valores atípicos\n"
   ]
  },
  {
   "cell_type": "code",
   "execution_count": null,
   "id": "08dede56",
   "metadata": {},
   "outputs": [],
   "source": [
    "import pandas as pd\n",
    "import requests\n",
    "import numpy as np\n",
    "import os\n",
    "import matplotlib.pyplot as plt\n",
    "%matplotlib inline\n",
    "import seaborn as sns\n",
    "\n",
    "# Leer csv\n",
    "df = pd.read_csv('data/wine/winequality-red.csv')\n",
    "\n",
    "df"
   ]
  },
  {
   "cell_type": "markdown",
   "id": "39589a9d",
   "metadata": {},
   "source": [
    "Mostrar características estadísticas de los elementos"
   ]
  },
  {
   "cell_type": "code",
   "execution_count": null,
   "id": "ebc6d841",
   "metadata": {},
   "outputs": [],
   "source": [
    "df.describe()"
   ]
  },
  {
   "cell_type": "markdown",
   "id": "d3032bd4",
   "metadata": {},
   "source": [
    "### IQR Score\n",
    "\n",
    "El rango intercuartílico o Interquartile Range es la diferencia entre el tercer y el primer cuartil de una distribución. \n",
    "\n",
    "Muestra la tendencia central de los datos.\n",
    "\n",
    "IQR = Q3 − Q1\n",
    "\n",
    "Se asume que cualquier valor fuera de este rango es un valor atípico"
   ]
  },
  {
   "cell_type": "code",
   "execution_count": null,
   "id": "9eb2724f",
   "metadata": {},
   "outputs": [],
   "source": [
    "Q1 = df.quantile(0.25)\n",
    "Q3 = df.quantile(0.75)\n",
    "IQR = Q3 - Q1\n",
    "print(IQR)"
   ]
  },
  {
   "cell_type": "code",
   "execution_count": null,
   "id": "2bf17072",
   "metadata": {},
   "outputs": [],
   "source": [
    "# Rangos normales de datos\n",
    "rango_inferior = Q1 - 1.5 * IQR\n",
    "rango_superior = Q3 + 1.5 * IQR\n",
    "\n",
    "print(\"Rango superior\")\n",
    "print(rango_inferior)\n",
    "print(\"Rango inferior\")\n",
    "print(rango_superior)"
   ]
  },
  {
   "cell_type": "code",
   "execution_count": null,
   "id": "fa2bb0ed",
   "metadata": {},
   "outputs": [],
   "source": [
    "#Mostrar si un valor es atípico o no\n",
    "df_outliers = (df < rango_inferior) | (df > rango_superior)\n",
    "df_outliers"
   ]
  },
  {
   "cell_type": "code",
   "execution_count": null,
   "id": "b5e7eaaa",
   "metadata": {},
   "outputs": [],
   "source": [
    "#Mostar mapa de calor para identificar los valores atípicos\n",
    "sns.heatmap(df_outliers, cbar=False)"
   ]
  },
  {
   "cell_type": "markdown",
   "id": "44eb18b6",
   "metadata": {},
   "source": [
    "### Box plot\n",
    "\n",
    "Un diagrama de caja o box plot es un gráfico que representa una serie de daots numéricos a partir de sus cuartiles.\n",
    "<img src=\"https://upload.wikimedia.org/wikipedia/commons/4/4a/Diagrama_de_caja.jpg\">"
   ]
  },
  {
   "cell_type": "code",
   "execution_count": null,
   "id": "dc4ffca9",
   "metadata": {},
   "outputs": [],
   "source": [
    "# Mostrar boxplot de un atributo\n",
    "df.boxplot(column='pH')"
   ]
  },
  {
   "cell_type": "code",
   "execution_count": null,
   "id": "a760d5fd",
   "metadata": {},
   "outputs": [],
   "source": [
    "# Mostrar boxplot de un atributo dividio por categoría\n",
    "df.boxplot(column='pH', by='quality')"
   ]
  },
  {
   "cell_type": "code",
   "execution_count": null,
   "id": "afeaac72",
   "metadata": {},
   "outputs": [],
   "source": [
    "# Mostrar boxplot de un atributo\n",
    "sns.boxplot(x=df['pH'])"
   ]
  },
  {
   "cell_type": "code",
   "execution_count": null,
   "id": "9f121857",
   "metadata": {},
   "outputs": [],
   "source": [
    "# Mostrar boxplot de un atributo dividio por categoría\n",
    "sns.boxplot(y=df['pH'],x=df['quality'])"
   ]
  },
  {
   "cell_type": "markdown",
   "id": "d74736ff",
   "metadata": {},
   "source": [
    "### Scatter Plot\n",
    "\n",
    "Los gráficos de disperción pueden mostrar visualmente cuando existen datos que se separan de los valores comunes del atributo"
   ]
  },
  {
   "cell_type": "code",
   "execution_count": null,
   "id": "6655e051",
   "metadata": {},
   "outputs": [],
   "source": [
    "plt.scatter(df.index,df[\"pH\"])\n",
    "plt.ylabel('pH')\n",
    "plt.show()"
   ]
  },
  {
   "cell_type": "code",
   "execution_count": null,
   "id": "09032dc0",
   "metadata": {},
   "outputs": [],
   "source": [
    "# Valor del atributo separado por categoría\n",
    "plt.scatter(df[\"quality\"], df[\"pH\"])\n",
    "plt.ylabel('pH')\n",
    "plt.show() "
   ]
  },
  {
   "cell_type": "markdown",
   "id": "3d1ff54f",
   "metadata": {},
   "source": [
    "### Histogram\n",
    "\n",
    "El histograma muestra la frecuencia en la que aparecen los valores para un atributo específico. Nos permite ver ocurrencias de valores extremos."
   ]
  },
  {
   "cell_type": "code",
   "execution_count": null,
   "id": "7f23b280",
   "metadata": {},
   "outputs": [],
   "source": [
    "df.pH.hist()"
   ]
  },
  {
   "cell_type": "markdown",
   "id": "7e1b6489",
   "metadata": {},
   "source": [
    "## Tratamiento"
   ]
  },
  {
   "cell_type": "markdown",
   "id": "584e0bf2",
   "metadata": {},
   "source": [
    "### Flooring and Capping basado en cuartiles\n",
    "\n",
    "Se reemplazan los valores más bajos con el valor correspondiente a uno de los percentiles más bajos y los mal altos por el valor correspondiente a uno de los percentiles más altos."
   ]
  },
  {
   "cell_type": "code",
   "execution_count": null,
   "id": "5f8bd11a",
   "metadata": {},
   "outputs": [],
   "source": [
    "pH_q_sup = df['pH'].quantile(0.90)\n",
    "pH_q_inf = df['pH'].quantile(0.10)\n",
    "print(pH_q_sup)\n",
    "print(pH_q_inf)"
   ]
  },
  {
   "cell_type": "code",
   "execution_count": null,
   "id": "ab33ac93",
   "metadata": {},
   "outputs": [],
   "source": [
    "df_fc = df.copy(deep = True)\n",
    "df_fc.loc[df_fc[\"pH\"] <= pH_q_inf,\"pH\"] = pH_q_inf\n",
    "df_fc.loc[df_fc[\"pH\"] >= pH_q_sup, \"pH\"] = pH_q_sup"
   ]
  },
  {
   "cell_type": "code",
   "execution_count": null,
   "id": "102b7488",
   "metadata": {},
   "outputs": [],
   "source": [
    "plt.scatter(df[\"quality\"], df[\"pH\"])\n",
    "plt.title('Original')\n",
    "plt.ylim(min(df['pH']),max(df['pH']))\n",
    "plt.ylabel('pH')\n",
    "plt.show() \n",
    "\n",
    "plt.scatter(df_fc[\"quality\"], df_fc[\"pH\"])\n",
    "plt.title('Valores modificados')\n",
    "plt.ylim(min(df['pH']),max(df['pH']))\n",
    "plt.ylabel('pH')\n",
    "plt.show() "
   ]
  },
  {
   "cell_type": "code",
   "execution_count": null,
   "id": "58ce7642",
   "metadata": {},
   "outputs": [],
   "source": [
    "a = sns.boxplot(y=df['pH'],x=df['quality'])\n",
    "a.set(ylim=(min(df['pH']),max(df['pH'])))\n"
   ]
  },
  {
   "cell_type": "code",
   "execution_count": null,
   "id": "a78a22da",
   "metadata": {},
   "outputs": [],
   "source": [
    "a = sns.boxplot(y=df_fc['pH'],x=df_fc['quality'])\n",
    "a.set(ylim=(min(df['pH']),max(df['pH'])))"
   ]
  },
  {
   "cell_type": "markdown",
   "id": "986931c3",
   "metadata": {},
   "source": [
    "### Trimming\n",
    "\n",
    "Eliminar los elementos que se encuentren fuera de ciertos cuartiles"
   ]
  },
  {
   "cell_type": "code",
   "execution_count": null,
   "id": "11cf418e",
   "metadata": {},
   "outputs": [],
   "source": [
    "pH_q_sup = df['pH'].quantile(0.98)\n",
    "pH_q_inf = df['pH'].quantile(0.02)\n",
    "df_tr = df.copy(deep = True)\n",
    "index = df_tr[(df['pH'] >= pH_q_sup)|(df_tr['pH'] <= pH_q_inf)].index\n",
    "df_tr.drop(index, inplace=True)"
   ]
  },
  {
   "cell_type": "code",
   "execution_count": null,
   "id": "5e03cc62",
   "metadata": {},
   "outputs": [],
   "source": [
    "plt.scatter(df[\"quality\"], df[\"pH\"])\n",
    "plt.ylim(min(df['pH']),max(df['pH']))\n",
    "plt.title('Original')\n",
    "plt.ylabel('pH')\n",
    "plt.show() \n",
    "\n",
    "plt.scatter(df_tr[\"quality\"], df_tr[\"pH\"])\n",
    "plt.ylim(min(df['pH']),max(df['pH']))\n",
    "plt.title('Valores modificados')\n",
    "plt.ylabel('pH')\n",
    "plt.show() \n"
   ]
  },
  {
   "cell_type": "code",
   "execution_count": null,
   "id": "8217ed51",
   "metadata": {},
   "outputs": [],
   "source": [
    "a = sns.boxplot(y=df['pH'],x=df['quality'])\n",
    "a.set(ylim=(min(df['pH']),max(df['pH'])))"
   ]
  },
  {
   "cell_type": "code",
   "execution_count": null,
   "id": "dd1409a3",
   "metadata": {},
   "outputs": [],
   "source": [
    "a = sns.boxplot(y=df_tr['pH'],x=df_tr['quality'])\n",
    "a.set(ylim=(min(df['pH']),max(df['pH'])))"
   ]
  },
  {
   "cell_type": "markdown",
   "id": "181d89e2",
   "metadata": {},
   "source": [
    "### IQR Score\n",
    "\n",
    "Eliminar aquellos elementos que se consideren outliers de acuerdo con el valor IQR"
   ]
  },
  {
   "cell_type": "code",
   "execution_count": null,
   "id": "538f6230",
   "metadata": {},
   "outputs": [],
   "source": [
    "pH_q_sup = df['pH'].quantile(0.98)\n",
    "pH_q_inf = df['pH'].quantile(0.02)\n",
    "df_IQR = df.copy(deep = True)\n",
    "index = df_IQR[(df['pH'] >= rango_superior['pH'])|(df_IQR['pH'] <= rango_inferior['pH'])].index\n",
    "df_IQR.drop(index, inplace=True)"
   ]
  },
  {
   "cell_type": "code",
   "execution_count": null,
   "id": "f6ac451c",
   "metadata": {},
   "outputs": [],
   "source": [
    "plt.scatter(df[\"quality\"], df[\"pH\"])\n",
    "plt.ylim(min(df['pH']),max(df['pH']))\n",
    "plt.title('Original')\n",
    "plt.ylabel('pH')\n",
    "plt.show()    \n",
    "\n",
    "plt.scatter(df_IQR[\"quality\"], df_IQR[\"pH\"])\n",
    "plt.ylim(min(df['pH']),max(df['pH']))\n",
    "plt.title('Valores modificados')\n",
    "plt.ylabel('pH')\n",
    "plt.show() \n",
    "\n"
   ]
  },
  {
   "cell_type": "code",
   "execution_count": null,
   "id": "c4617b0d",
   "metadata": {},
   "outputs": [],
   "source": [
    "a = sns.boxplot(y=df['pH'],x=df['quality'])\n",
    "a.set(ylim=(min(df['pH']),max(df['pH'])))"
   ]
  },
  {
   "cell_type": "code",
   "execution_count": null,
   "id": "7296fd2b",
   "metadata": {},
   "outputs": [],
   "source": [
    "a = sns.boxplot(y=df_IQR['pH'],x=df_IQR['quality'])\n",
    "a.set(ylim=(min(df['pH']),max(df['pH'])))"
   ]
  },
  {
   "cell_type": "markdown",
   "id": "5418cc32",
   "metadata": {},
   "source": [
    "### Transformación logarítmica\n",
    "\n",
    "Aplicar una transformación logarítmica sobre los elementos. Esto lo convierte en una distribucion normal pero cambia el valor y por lo tanto el significado de los datos. Es útil para los algoritmos de machine learning que requieren este tipo de distribución."
   ]
  },
  {
   "cell_type": "code",
   "execution_count": null,
   "id": "51a2aa03",
   "metadata": {},
   "outputs": [],
   "source": [
    "df_log = df.copy(deep = True)\n",
    "df_log[\"pH\"] = np.log(df_log[\"pH\"]) "
   ]
  },
  {
   "cell_type": "code",
   "execution_count": null,
   "id": "3e328cdb",
   "metadata": {},
   "outputs": [],
   "source": [
    "plt.scatter(df[\"quality\"], df[\"pH\"])\n",
    "plt.title('Original')\n",
    "plt.ylim(min(df_log['pH']),max(df['pH']))\n",
    "plt.ylabel('pH')\n",
    "plt.show() \n",
    "\n",
    "plt.scatter(df_log[\"quality\"], df_log[\"pH\"])\n",
    "plt.title('Valores modificados')\n",
    "plt.ylim(min(df_log['pH']),max(df['pH']))\n",
    "plt.ylabel('pH')\n",
    "plt.show() "
   ]
  },
  {
   "cell_type": "code",
   "execution_count": null,
   "id": "cf014cf0",
   "metadata": {},
   "outputs": [],
   "source": [
    "a = sns.boxplot(y=df['pH'],x=df['quality'])\n",
    "a.set(ylim=(min(df['pH']),max(df['pH'])))"
   ]
  },
  {
   "cell_type": "code",
   "execution_count": null,
   "id": "9e59c01b",
   "metadata": {},
   "outputs": [],
   "source": [
    "a = sns.boxplot(y=df_log['pH'],x=df_log['quality'])\n",
    "a.set(ylim=(min(df_log['pH']),max(df['pH'])))"
   ]
  },
  {
   "cell_type": "code",
   "execution_count": null,
   "id": "3da7e8d3",
   "metadata": {},
   "outputs": [],
   "source": []
  }
 ],
 "metadata": {
  "kernelspec": {
   "display_name": "Python 3",
   "language": "python",
   "name": "python3"
  },
  "language_info": {
   "codemirror_mode": {
    "name": "ipython",
    "version": 3
   },
   "file_extension": ".py",
   "mimetype": "text/x-python",
   "name": "python",
   "nbconvert_exporter": "python",
   "pygments_lexer": "ipython3",
   "version": "3.7.6"
  }
 },
 "nbformat": 4,
 "nbformat_minor": 5
}
