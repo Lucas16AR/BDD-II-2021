{
 "cells": [
  {
   "cell_type": "markdown",
   "metadata": {},
   "source": [
    "# TP4\n",
    "\n",
    "Se quiere utilizar el conjunto de datos guardado en el archivo AirQualityUCI.csv para realizar un análisis de regresión. El algoritmo que se quiere utilizar requiere que los valores numéricos se encuentren en un rango entre 0 y 1. \n",
    "\n",
    "- Seleccionar un método de escalado y aplicarlo\n",
    "- Justificar la elección"
   ]
  },
  {
   "cell_type": "code",
   "execution_count": null,
   "metadata": {},
   "outputs": [],
   "source": []
  }
 ],
 "metadata": {
  "kernelspec": {
   "display_name": "Python 3",
   "language": "python",
   "name": "python3"
  },
  "language_info": {
   "codemirror_mode": {
    "name": "ipython",
    "version": 3
   },
   "file_extension": ".py",
   "mimetype": "text/x-python",
   "name": "python",
   "nbconvert_exporter": "python",
   "pygments_lexer": "ipython3",
   "version": "3.8.8"
  }
 },
 "nbformat": 4,
 "nbformat_minor": 4
}
