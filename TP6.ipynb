{
 "cells": [
  {
   "cell_type": "markdown",
   "id": "1d8d2bac",
   "metadata": {},
   "source": [
    "# Proyecto análisis de conversación de mensajería\n",
    "\n",
    "## Cargar datos\n",
    "- Exportar una conversación personal o grupal de Whastapp o Telegram en un formato adecuado (JSON, CSV, etc), no exportar audios, archivos multimedia, etc\n",
    "- Importar archivo y convertirlo en dataframe\n",
    "- Obtener y graficar los siguientes datos. Elegir el gráfico que mejor represente los datos"
   ]
  },
  {
   "cell_type": "markdown",
   "id": "8a30f6b1",
   "metadata": {},
   "source": [
    "### Cantidad de mensajes enviados por cada usuario"
   ]
  },
  {
   "cell_type": "code",
   "execution_count": null,
   "id": "ed7314c3",
   "metadata": {},
   "outputs": [],
   "source": []
  },
  {
   "cell_type": "markdown",
   "id": "d484af85",
   "metadata": {},
   "source": [
    "### Promedio de palabras utilizadas por mensaje por cada usuario"
   ]
  },
  {
   "cell_type": "code",
   "execution_count": null,
   "id": "ae5e7549",
   "metadata": {},
   "outputs": [],
   "source": []
  },
  {
   "cell_type": "markdown",
   "id": "0e9cdc36",
   "metadata": {},
   "source": [
    "### Porcentaje de mensajes enviados por cada usuario"
   ]
  },
  {
   "cell_type": "code",
   "execution_count": null,
   "id": "7d7a7bdc",
   "metadata": {},
   "outputs": [],
   "source": []
  },
  {
   "cell_type": "markdown",
   "id": "a073470f",
   "metadata": {},
   "source": [
    "### Frecuencia de envío de mensaje dependiendo la hora del día"
   ]
  },
  {
   "cell_type": "code",
   "execution_count": null,
   "id": "639f605d",
   "metadata": {},
   "outputs": [],
   "source": []
  },
  {
   "cell_type": "markdown",
   "id": "522298d5",
   "metadata": {},
   "source": [
    "### Frecuencia de envío de mensaje dependiendo del día de la semana"
   ]
  },
  {
   "cell_type": "code",
   "execution_count": null,
   "id": "ee32a23d",
   "metadata": {},
   "outputs": [],
   "source": []
  },
  {
   "cell_type": "markdown",
   "id": "f76a7755",
   "metadata": {},
   "source": [
    "### Hora del día preferida por cada usuario para enviar mensajes"
   ]
  },
  {
   "cell_type": "code",
   "execution_count": null,
   "id": "28c6b2fe",
   "metadata": {},
   "outputs": [],
   "source": []
  },
  {
   "cell_type": "markdown",
   "id": "2df610bb",
   "metadata": {},
   "source": [
    "### Día de la semana preferida por cada usuario para enviar mensajes"
   ]
  },
  {
   "cell_type": "code",
   "execution_count": null,
   "id": "45cd5561",
   "metadata": {},
   "outputs": [],
   "source": []
  },
  {
   "cell_type": "markdown",
   "id": "edf46bdf",
   "metadata": {},
   "source": [
    "### Cantidad promedio de mensajes enviados por hora para cada usuario"
   ]
  },
  {
   "cell_type": "code",
   "execution_count": null,
   "id": "bc363712",
   "metadata": {},
   "outputs": [],
   "source": []
  },
  {
   "cell_type": "markdown",
   "id": "a3f21821",
   "metadata": {},
   "source": [
    "### Cantidad de usuarios promedio que envían mensaje por cada día de la semana"
   ]
  },
  {
   "cell_type": "code",
   "execution_count": null,
   "id": "4809fb9b",
   "metadata": {},
   "outputs": [],
   "source": []
  },
  {
   "cell_type": "markdown",
   "id": "2402fc73",
   "metadata": {},
   "source": [
    "### Cantidad de mensajes envíados por mes"
   ]
  },
  {
   "cell_type": "code",
   "execution_count": null,
   "id": "646751fe",
   "metadata": {},
   "outputs": [],
   "source": []
  },
  {
   "cell_type": "markdown",
   "id": "9f45c176",
   "metadata": {},
   "source": [
    "### Cantidad mínima, máxima y promedio de palabras por mensaje"
   ]
  },
  {
   "cell_type": "code",
   "execution_count": null,
   "id": "f2e8e239",
   "metadata": {},
   "outputs": [],
   "source": []
  }
 ],
 "metadata": {
  "kernelspec": {
   "display_name": "Python 3",
   "language": "python",
   "name": "python3"
  },
  "language_info": {
   "codemirror_mode": {
    "name": "ipython",
    "version": 3
   },
   "file_extension": ".py",
   "mimetype": "text/x-python",
   "name": "python",
   "nbconvert_exporter": "python",
   "pygments_lexer": "ipython3",
   "version": "3.7.6"
  }
 },
 "nbformat": 4,
 "nbformat_minor": 5
}
