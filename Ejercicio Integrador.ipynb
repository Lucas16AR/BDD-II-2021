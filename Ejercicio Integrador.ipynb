{
 "cells": [
  {
   "cell_type": "markdown",
   "id": "8e34f1ab",
   "metadata": {},
   "source": [
    "# Ejercicio integrador\n",
    "\n",
    "A partir del archivo <i>incident_2017.csv</i> realizar un proceso de data mining.\n",
    "\n",
    "- Leer los datos\n",
    "- Estudiar y evaluar la información que puede obtenerse de los datos\n",
    "- Evaluar y tratar valores faltantes justificando las decisiones\n",
    "- Evaluar y tratar valores atípicos justificando las decisiones\n",
    "- Obtener a través de diferentes consultas y cálculos estadísticas la mayor cantidad de <b>información útil</b>\n",
    "- Utilizar diferentes técnicas de visualización para representar la información obtenida de manera eficiente y legible\n",
    "- Detallar en cada caso las conclusiones obtenidas de la información"
   ]
  },
  {
   "cell_type": "code",
   "execution_count": null,
   "id": "416292b5",
   "metadata": {},
   "outputs": [],
   "source": []
  }
 ],
 "metadata": {
  "kernelspec": {
   "display_name": "Python 3",
   "language": "python",
   "name": "python3"
  },
  "language_info": {
   "codemirror_mode": {
    "name": "ipython",
    "version": 3
   },
   "file_extension": ".py",
   "mimetype": "text/x-python",
   "name": "python",
   "nbconvert_exporter": "python",
   "pygments_lexer": "ipython3",
   "version": "3.7.7"
  }
 },
 "nbformat": 4,
 "nbformat_minor": 5
}
