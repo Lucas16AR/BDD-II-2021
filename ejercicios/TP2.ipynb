{
 "cells": [
  {
   "cell_type": "markdown",
   "source": [
    "# TP2\n",
    "\n",
    "## Valores faltantes"
   ],
   "metadata": {}
  },
  {
   "cell_type": "markdown",
   "source": [
    "# Ejercicio 1\n",
    "\n",
    "- Leer y obtener el siguiente dataset sobre <a href=\"https://archive.ics.uci.edu/ml/datasets/Sponge\">esponjas</a>\n",
    "- Analizar la naturaleza y distribución de los datos faltantes\n",
    "- Selecccionar e implementar el mejor método para tratar los datos faltantes\n",
    "- Justificar la elección\n"
   ],
   "metadata": {}
  },
  {
   "cell_type": "code",
   "execution_count": null,
   "source": [],
   "outputs": [],
   "metadata": {}
  },
  {
   "cell_type": "markdown",
   "source": [
    "# Ejercicio 2\n",
    "\n",
    "- Leer y obtener el siguiente dataset sobre <a href=\"https://archive.ics.uci.edu/ml/datasets/Echocardiogram\">ecocardiogramas</a>\n",
    "- Analizar la naturaleza y distribución de los datos faltantes\n",
    "- Selecccionar e implementar el mejor método para tratar los datos faltantes\n",
    "- Justificar la elección\n"
   ],
   "metadata": {}
  }
 ],
 "metadata": {
  "kernelspec": {
   "display_name": "Python 3",
   "language": "python",
   "name": "python3"
  },
  "language_info": {
   "codemirror_mode": {
    "name": "ipython",
    "version": 3
   },
   "file_extension": ".py",
   "mimetype": "text/x-python",
   "name": "python",
   "nbconvert_exporter": "python",
   "pygments_lexer": "ipython3",
   "version": "3.8.8"
  }
 },
 "nbformat": 4,
 "nbformat_minor": 5
}